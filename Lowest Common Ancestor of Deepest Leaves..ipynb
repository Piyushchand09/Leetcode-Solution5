{
 "cells": [
  {
   "cell_type": "code",
   "execution_count": null,
   "id": "c519c104",
   "metadata": {},
   "outputs": [],
   "source": [
    "# Lowest Common Ancestor of Deepest Leaves.\n",
    "from typing import Optional\n",
    "\n",
    "class TreeNode:  \n",
    "    def __init__(self, val=0, left=None, right=None):\n",
    "        self.val = val\n",
    "        self.left = left\n",
    "        self.right = right\n",
    "\n",
    "class Solution:\n",
    "    def lcaDeepestLeaves(self, root: Optional[TreeNode]) -> Optional[TreeNode]:\n",
    "        def dfs(node, depth):\n",
    "            if not node:\n",
    "                return (None, depth + 1)\n",
    "            left_node, left_depth = dfs(node.left, depth + 1)\n",
    "            right_node, right_depth = dfs(node.right, depth + 1)  # Corrected typo: dfe to dfs\n",
    "            if left_depth > right_depth:\n",
    "                return left_node, left_depth\n",
    "            elif left_depth < right_depth:\n",
    "                return right_node, right_depth\n",
    "            return node, left_depth\n",
    "\n",
    "        node, _ = dfs(root, 0)  \n",
    "        return node"
   ]
  }
 ],
 "metadata": {
  "kernelspec": {
   "display_name": "Python 3 (ipykernel)",
   "language": "python",
   "name": "python3"
  },
  "language_info": {
   "codemirror_mode": {
    "name": "ipython",
    "version": 3
   },
   "file_extension": ".py",
   "mimetype": "text/x-python",
   "name": "python",
   "nbconvert_exporter": "python",
   "pygments_lexer": "ipython3",
   "version": "3.12.4"
  }
 },
 "nbformat": 4,
 "nbformat_minor": 5
}
